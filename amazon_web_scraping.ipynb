{
  "nbformat": 4,
  "nbformat_minor": 0,
  "metadata": {
    "colab": {
      "provenance": [],
      "authorship_tag": "ABX9TyNZPuaK+59xvNbFXipeW2b4",
      "include_colab_link": true
    },
    "kernelspec": {
      "name": "python3",
      "display_name": "Python 3"
    },
    "language_info": {
      "name": "python"
    }
  },
  "cells": [
    {
      "cell_type": "markdown",
      "metadata": {
        "id": "view-in-github",
        "colab_type": "text"
      },
      "source": [
        "<a href=\"https://colab.research.google.com/github/miraqulass/web_scraping_projects/blob/main/amazon_web_scraping.ipynb\" target=\"_parent\"><img src=\"https://colab.research.google.com/assets/colab-badge.svg\" alt=\"Open In Colab\"/></a>"
      ]
    },
    {
      "cell_type": "markdown",
      "source": [
        "**Amazon Web Scraper**"
      ],
      "metadata": {
        "id": "016c4TpIwiXs"
      }
    },
    {
      "cell_type": "code",
      "source": [
        "from google.colab import drive\n",
        "drive.mount('/content/drive')"
      ],
      "metadata": {
        "colab": {
          "base_uri": "https://localhost:8080/"
        },
        "id": "tNE1GnGI9vlU",
        "outputId": "c6e16edc-847c-4b69-e7f3-87aa50e074b1"
      },
      "execution_count": 2,
      "outputs": [
        {
          "output_type": "stream",
          "name": "stdout",
          "text": [
            "Mounted at /content/drive\n"
          ]
        }
      ]
    },
    {
      "cell_type": "code",
      "execution_count": 3,
      "metadata": {
        "id": "_eQgW7RUvQRm"
      },
      "outputs": [],
      "source": [
        "# Import libraries\n",
        "\n",
        "from bs4 import BeautifulSoup\n",
        "import requests\n",
        "import smtplib\n",
        "import time\n",
        "import datetime"
      ]
    },
    {
      "cell_type": "code",
      "source": [
        "# Connect to website\n",
        "\n",
        "url = 'https://www.amazon.com/Funny-Data-Systems-Business-Analyst/dp/B07FNW9FGJ/ref=sr_1_5?crid=UERINDHIYCLA&dib=eyJ2IjoiMSJ9.PM2zhQFx_lfPnddZwr05Di63DFfEQiusBydIB7mHTFNzkivMcMdULbREvCMpPSNgHPucAjfMlEw27JJXHnEnaqo4xMsc56SVGV9piCJ_99Q51cy7UwYyAhZdvWfOJKswivi8ePZBBzC-eOsoxYlcYtLMYOPVwictGFq97JtE7HQHg3p8VutolOBqbCejYFjXE1GI27wvie078b-gqIOCOu1jWt07GrFUgxaxA550HLEX7ezvPoqlKEqhPWgF89CfOr30o7THUJ6LSMx0FhrYnu1vSG9bDE0cqJ2CSCg2Bmg.9d_x30ftLUhcLCY_YYJAnJoSmemwsynafUX6FsulwqU&dib_tag=se&keywords=data+analyst+tshirt&qid=1726492585&sprefix=%2Caps%2C562&sr=8-5'\n",
        "\n",
        "headers = {\"User-Agent\": \"Mozilla/5.0 (Windows NT 10.0; Win64; x64) AppleWebKit/537.36 (KHTML, like Gecko) Chrome/78.0.3904.108 Safari/537.36\", \"Accept-Encoding\":\"gzip, deflate\", \"Accept\":\"text/html,application/xhtml+xml,application/xml;q=0.9,*/*;q=0.8\", \"DNT\":\"1\",\"Connection\":\"close\", \"Upgrade-Insecure-Requests\":\"1\"}\n",
        "\n",
        "page = requests.get(url, headers=headers)\n",
        "\n",
        "soup1 = BeautifulSoup(page.content, \"html.parser\")\n",
        "\n",
        "soup2 = BeautifulSoup(soup1.prettify(), 'html.parser')\n",
        "\n",
        "#title = soup2.find(id='productTitle').get_text()\n",
        "\n",
        "#price_div = soup2.find('div', {'class': 'a-section a-spacing-none aok-align-center aok-relative'})\n",
        "#price = price_div.find('span', {'class': 'aok-offscreen'}).get_text().strip()\n",
        "\n",
        "#print(title)\n",
        "#print(price)\n",
        "print(soup2)"
      ],
      "metadata": {
        "colab": {
          "base_uri": "https://localhost:8080/"
        },
        "id": "QBOCf-OHwsuK",
        "outputId": "d1527175-4455-4aef-c6a6-a9ea3470fdfb"
      },
      "execution_count": 14,
      "outputs": [
        {
          "output_type": "stream",
          "name": "stdout",
          "text": [
            "<!DOCTYPE html>\n",
            "\n",
            "<!--[if lt IE 7]> <html lang=\"en-us\" class=\"a-no-js a-lt-ie9 a-lt-ie8 a-lt-ie7\"> <![endif]-->\n",
            "<!--[if IE 7]>    <html lang=\"en-us\" class=\"a-no-js a-lt-ie9 a-lt-ie8\"> <![endif]-->\n",
            "<!--[if IE 8]>    <html lang=\"en-us\" class=\"a-no-js a-lt-ie9\"> <![endif]-->\n",
            "<!--[if gt IE 8]><!-->\n",
            "<html class=\"a-no-js\" lang=\"en-us\">\n",
            "<!--<![endif]-->\n",
            "<head>\n",
            "<meta content=\"text/html; charset=utf-8\" http-equiv=\"content-type\"/>\n",
            "<meta charset=\"utf-8\"/>\n",
            "<meta content=\"IE=edge,chrome=1\" http-equiv=\"X-UA-Compatible\"/>\n",
            "<title dir=\"ltr\">\n",
            "   Amazon.com\n",
            "  </title>\n",
            "<meta content=\"width=device-width\" name=\"viewport\"/>\n",
            "<link href=\"https://images-na.ssl-images-amazon.com/images/G/01/AUIClients/AmazonUI-3c913031596ca78a3768f4e934b1cc02ce238101.secure.min._V1_.css\" rel=\"stylesheet\"/>\n",
            "<script>\n",
            "   if (true === true) {\n",
            "    var ue_t0 = (+ new Date()),\n",
            "        ue_csm = window,\n",
            "        ue = { t0: ue_t0, d: function() { return (+new Date() - ue_t0); } },\n",
            "        ue_furl = \"fls-na.amazon.com\",\n",
            "        ue_mid = \"ATVPDKIKX0DER\",\n",
            "        ue_sid = (document.cookie.match(/session-id=([0-9-]+)/) || [])[1],\n",
            "        ue_sn = \"opfcaptcha.amazon.com\",\n",
            "        ue_id = 'XXSMRKNHH89GGRWPV6C6';\n",
            "}\n",
            "  </script>\n",
            "</head>\n",
            "<body>\n",
            "<!--\n",
            "        To discuss automated access to Amazon data please contact api-services-support@amazon.com.\n",
            "        For information about migrating to our APIs refer to our Marketplace APIs at https://developer.amazonservices.com/ref=rm_c_sv, or our Product Advertising API at https://affiliate-program.amazon.com/gp/advertising/api/detail/main.html/ref=rm_c_ac for advertising use cases.\n",
            "-->\n",
            "<!--\n",
            "Correios.DoNotSend\n",
            "-->\n",
            "<div class=\"a-container a-padding-double-large\" style=\"min-width:350px;padding:44px 0 !important\">\n",
            "<div class=\"a-row a-spacing-double-large\" style=\"width: 350px; margin: 0 auto\">\n",
            "<div class=\"a-row a-spacing-medium a-text-center\">\n",
            "<i class=\"a-icon a-logo\">\n",
            "</i>\n",
            "</div>\n",
            "<div class=\"a-box a-alert a-alert-info a-spacing-base\">\n",
            "<div class=\"a-box-inner\">\n",
            "<i class=\"a-icon a-icon-alert\">\n",
            "</i>\n",
            "<h4>\n",
            "       Enter the characters you see below\n",
            "      </h4>\n",
            "<p class=\"a-last\">\n",
            "       Sorry, we just need to make sure you're not a robot. For best results, please make sure your browser is accepting cookies.\n",
            "      </p>\n",
            "</div>\n",
            "</div>\n",
            "<div class=\"a-section\">\n",
            "<div class=\"a-box a-color-offset-background\">\n",
            "<div class=\"a-box-inner a-padding-extra-large\">\n",
            "<form action=\"/errors/validateCaptcha\" method=\"get\" name=\"\">\n",
            "<input name=\"amzn\" type=\"hidden\" value=\"bOY8FeHAUQmrtWFJ5MZ4Zw==\"/>\n",
            "<input name=\"amzn-r\" type=\"hidden\" value=\"/Funny-Data-Systems-Business-Analyst/dp/B07FNW9FGJ/ref=sr_1_5?crid=UERINDHIYCLA&amp;dib=eyJ2IjoiMSJ9.PM2zhQFx_lfPnddZwr05Di63DFfEQiusBydIB7mHTFNzkivMcMdULbREvCMpPSNgHPucAjfMlEw27JJXHnEnaqo4xMsc56SVGV9piCJ_99Q51cy7UwYyAhZdvWfOJKswivi8ePZBBzC-eOsoxYlcYtLMYOPVwictGFq97JtE7HQHg3p8VutolOBqbCejYFjXE1GI27wvie078b-gqIOCOu1jWt07GrFUgxaxA550HLEX7ezvPoqlKEqhPWgF89CfOr30o7THUJ6LSMx0FhrYnu1vSG9bDE0cqJ2CSCg2Bmg.9d_x30ftLUhcLCY_YYJAnJoSmemwsynafUX6FsulwqU&amp;dib_tag=se&amp;keywords=data+analyst+tshirt&amp;qid=1726492585&amp;sprefix=%2Caps%2C562&amp;sr=8-5\"/>\n",
            "<div class=\"a-row a-spacing-large\">\n",
            "<div class=\"a-box\">\n",
            "<div class=\"a-box-inner\">\n",
            "<h4>\n",
            "            Type the characters you see in this image:\n",
            "           </h4>\n",
            "<div class=\"a-row a-text-center\">\n",
            "<img src=\"https://images-na.ssl-images-amazon.com/captcha/huyzhwry/Captcha_jutvnaynkz.jpg\"/>\n",
            "</div>\n",
            "<div class=\"a-row a-spacing-base\">\n",
            "<div class=\"a-row\">\n",
            "<div class=\"a-column a-span6\">\n",
            "</div>\n",
            "<div class=\"a-column a-span6 a-span-last a-text-right\">\n",
            "<a onclick=\"window.location.reload()\">\n",
            "               Try different image\n",
            "              </a>\n",
            "</div>\n",
            "</div>\n",
            "<input autocapitalize=\"off\" autocomplete=\"off\" autocorrect=\"off\" class=\"a-span12\" id=\"captchacharacters\" name=\"field-keywords\" placeholder=\"Type characters\" spellcheck=\"false\" type=\"text\"/>\n",
            "</div>\n",
            "</div>\n",
            "</div>\n",
            "</div>\n",
            "<div class=\"a-section a-spacing-extra-large\">\n",
            "<div class=\"a-row\">\n",
            "<span class=\"a-button a-button-primary a-span12\">\n",
            "<span class=\"a-button-inner\">\n",
            "<button class=\"a-button-text\" type=\"submit\">\n",
            "             Continue shopping\n",
            "            </button>\n",
            "</span>\n",
            "</span>\n",
            "</div>\n",
            "</div>\n",
            "</form>\n",
            "</div>\n",
            "</div>\n",
            "</div>\n",
            "</div>\n",
            "<div class=\"a-divider a-divider-section\">\n",
            "<div class=\"a-divider-inner\">\n",
            "</div>\n",
            "</div>\n",
            "<div class=\"a-text-center a-spacing-small a-size-mini\">\n",
            "<a href=\"https://www.amazon.com/gp/help/customer/display.html/ref=footer_cou?ie=UTF8&amp;nodeId=508088\">\n",
            "     Conditions of Use\n",
            "    </a>\n",
            "<span class=\"a-letter-space\">\n",
            "</span>\n",
            "<span class=\"a-letter-space\">\n",
            "</span>\n",
            "<span class=\"a-letter-space\">\n",
            "</span>\n",
            "<span class=\"a-letter-space\">\n",
            "</span>\n",
            "<a href=\"https://www.amazon.com/gp/help/customer/display.html/ref=footer_privacy?ie=UTF8&amp;nodeId=468496\">\n",
            "     Privacy Policy\n",
            "    </a>\n",
            "</div>\n",
            "<div class=\"a-text-center a-size-mini a-color-secondary\">\n",
            "    © 1996-2014, Amazon.com, Inc. or its affiliates\n",
            "    <script>\n",
            "     if (true === true) {\n",
            "             document.write('<img src=\"https://fls-na.amaz'+'on.com/'+'1/oc-csi/1/OP/requestId=XXSMRKNHH89GGRWPV6C6&js=1\" />');\n",
            "           };\n",
            "    </script>\n",
            "<noscript>\n",
            "<img src=\"https://fls-na.amazon.com/1/oc-csi/1/OP/requestId=XXSMRKNHH89GGRWPV6C6&amp;js=0\"/>\n",
            "</noscript>\n",
            "</div>\n",
            "</div>\n",
            "<script>\n",
            "   if (true === true) {\n",
            "        var head = document.getElementsByTagName('head')[0],\n",
            "            prefix = \"https://images-na.ssl-images-amazon.com/images/G/01/csminstrumentation/\",\n",
            "            elem = document.createElement(\"script\");\n",
            "        elem.src = prefix + \"csm-captcha-instrumentation.min.js\";\n",
            "        head.appendChild(elem);\n",
            "\n",
            "        elem = document.createElement(\"script\");\n",
            "        elem.src = prefix + \"rd-script-6d68177fa6061598e9509dc4b5bdd08d.js\";\n",
            "        head.appendChild(elem);\n",
            "    }\n",
            "  </script>\n",
            "</body>\n",
            "</html>\n",
            "\n"
          ]
        }
      ]
    },
    {
      "cell_type": "code",
      "source": [
        "# Clone your GitHub repo\n",
        "!git clone https://github.com/miraqulass/web_scraping_projects"
      ],
      "metadata": {
        "colab": {
          "base_uri": "https://localhost:8080/"
        },
        "id": "ses3zgDz8gmp",
        "outputId": "0aea3e77-3200-4e96-9067-6981fc1dc07e"
      },
      "execution_count": 15,
      "outputs": [
        {
          "output_type": "stream",
          "name": "stdout",
          "text": [
            "fatal: destination path 'web_scraping_projects' already exists and is not an empty directory.\n"
          ]
        }
      ]
    },
    {
      "cell_type": "code",
      "source": [
        "!mv amazon-web-scraping.ipynb web_scraping_projects/"
      ],
      "metadata": {
        "colab": {
          "base_uri": "https://localhost:8080/"
        },
        "id": "xe33e6y58gh9",
        "outputId": "65a202b3-fb23-46ac-9441-6ce41335e898"
      },
      "execution_count": null,
      "outputs": [
        {
          "output_type": "stream",
          "name": "stdout",
          "text": [
            "mv: cannot stat 'amazon-web-scraping.ipynb': No such file or directory\n"
          ]
        }
      ]
    },
    {
      "cell_type": "code",
      "source": [],
      "metadata": {
        "id": "p6Q3zDCn8gfL"
      },
      "execution_count": null,
      "outputs": []
    },
    {
      "cell_type": "code",
      "source": [],
      "metadata": {
        "id": "O9Gz9zIR8gcD"
      },
      "execution_count": null,
      "outputs": []
    },
    {
      "cell_type": "code",
      "source": [],
      "metadata": {
        "id": "0tiKLeKY8gZj"
      },
      "execution_count": null,
      "outputs": []
    },
    {
      "cell_type": "code",
      "source": [],
      "metadata": {
        "id": "2Uok4w-78gW6"
      },
      "execution_count": null,
      "outputs": []
    }
  ]
}